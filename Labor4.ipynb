{
  "nbformat": 4,
  "nbformat_minor": 0,
  "metadata": {
    "colab": {
      "provenance": []
    },
    "kernelspec": {
      "name": "python3",
      "display_name": "Python 3"
    },
    "language_info": {
      "name": "python"
    }
  },
  "cells": [
    {
      "cell_type": "code",
      "execution_count": null,
      "metadata": {
        "id": "yIkw65sIHmNq"
      },
      "outputs": [],
      "source": [
        "import pandas as pd\n",
        "from tabulate import tabulate import matplotlib.pyplot as plt import scipy.stats as stats from scipy.stats import norm import numpy as np\n",
        "data = pd.read_csv('sr_aufg_4_71_MR1.txt', delim_whitespace=True, decimal=',', header=None, names=['MR1']) data['MR2'] = pd.read_csv('sr_aufg_4_71_MR2.txt', delim_whitespace=True, decimal=',', header=None) data['MR3'] = pd.read_csv('sr_aufg_4_71_MR3.txt', delim_whitespace=True, decimal=',', header=None)\n",
        "#data"
      ]
    },
    {
      "cell_type": "code",
      "source": [
        "# Mittelwert berechnen\n",
        "mittelwert_mr1 = round(data['MR1'].mean(), 4) mittelwert_mr2 = round(data['MR2'].mean(), 4) mittelwert_mr3 = round(data['MR3'].mean(), 4)\n",
        "# Empirische Varianz berechnen\n",
        "varianz_mr1 = round(data['MR1'].var(), 4) varianz_mr2 = round(data['MR2'].var(), 4) varianz_mr3 = round(data['MR3'].var(), 4)\n",
        "# Empirische Standardabweichung berechnen\n",
        "std_abweichung_mr1 = round(data['MR1'].std(), 4) std_abweichung_mr2 = round(data['MR2'].std(), 4) std_abweichung_mr3 = round(data['MR3'].std(), 4)\n",
        "# Median berechnen\n",
        "median_mr1 = round(data['MR1'].median(), 4) median_mr2 = round(data['MR2'].median(), 4) median_mr3 = round(data['MR3'].median(), 4)\n",
        "# Spannweite berechnen\n",
        "spannweite_mr1 = round(data['MR1'].max() - data['MR1'].min(), 4) spannweite_mr2 = round(data['MR2'].max() - data['MR2'].min(), 4) spannweite_mr3 = round(data['MR3'].max() - data['MR3'].min(), 4)\n",
        "# Ergebnisse als Tabelle formatieren\n",
        "results = [\n",
        "['Kennzahl', 'MR1', 'MR2', 'MR3'],\n",
        "['Mittelwert', mittelwert_mr1, mittelwert_mr2, mittelwert_mr3],\n",
        "['Empirische Varianz', varianz_mr1, varianz_mr2, varianz_mr3],\n",
        "['Empirische Standardabweichung', std_abweichung_mr1, std_abweichung_mr2, std_abweichung_mr3], ['Median', median_mr1, median_mr2, median_mr3],\n",
        "['Spannweite', spannweite_mr1, spannweite_mr2, spannweite_mr3]\n",
        "]\n",
        "# Tabelle anzeigen\n",
        "table = tabulate(results, headers='firstrow', tablefmt='fancy_grid') print(table)"
      ],
      "metadata": {
        "id": "U6_uVmJ9Hto3"
      },
      "execution_count": null,
      "outputs": []
    },
    {
      "cell_type": "code",
      "source": [
        "# Anzahl der Klassen berechnen (Sturge'sche Regel)\n",
        "num_classes = int(1 + np.log10(len(data['MR1'])) / np.log10(2))\n",
        "# Histogramm für Messreihe 1 erstellen\n",
        "plt.figure()\n",
        "plt.hist(data['MR1'], bins=num_classes) plt.xlabel('Werte') plt.ylabel('Häufigkeit') plt.title('Histogramm - Messreihe 1')\n",
        "# Anzahl der Klassen berechnen (Sturge'sche Regel)\n",
        "num_classes = int(1 + np.log10(len(data['MR2'])) / np.log10(2))\n",
        "# Histogramm für Messreihe 2 erstellen\n",
        "plt.figure()\n",
        "plt.hist(data['MR2'], bins=num_classes) plt.xlabel('Werte') plt.ylabel('Häufigkeit') plt.title('Histogramm - Messreihe 2')\n",
        "# Anzahl der Klassen berechnen (Sturge'sche Regel)\n",
        "num_classes = int(1 + np.log10(len(data['MR3'])) / np.log10(2))\n",
        "# Histogramm für Messreihe 3 erstellen\n",
        "plt.figure()\n",
        "plt.hist(data['MR3'], bins=num_classes) plt.xlabel('Werte') plt.ylabel('Häufigkeit') plt.title('Histogramm - Messreihe 3')\n",
        "# Histogramme anzeigen\n",
        "plt.show()"
      ],
      "metadata": {
        "id": "BHAjArYPHtrJ"
      },
      "execution_count": null,
      "outputs": []
    },
    {
      "cell_type": "code",
      "source": [
        "Säule = 10\n",
        "x_axis = np.arange(178, 188, 0.1)\n",
        "plt.figure(figsize=(10, 5))\n",
        "plt.plot(x_axis, 100 * norm.pdf(x_axis,mittelwert_mr1, std_abweichung_mr1),color='black')"
      ],
      "metadata": {
        "id": "jy7OkfFjHtty"
      },
      "execution_count": null,
      "outputs": []
    },
    {
      "cell_type": "code",
      "source": [
        "plt.hist(data['MR1'], Säule, color='purple') plt.xlabel('Data')\n",
        "plt.ylabel('Frequency') plt.title('Dichtefunktion Messreihe 2') plt.grid()\n",
        "plt.show()"
      ],
      "metadata": {
        "id": "mBG8Igm3Htvl"
      },
      "execution_count": null,
      "outputs": []
    },
    {
      "cell_type": "code",
      "source": [],
      "metadata": {
        "id": "eJHFmdJcHtx8"
      },
      "execution_count": null,
      "outputs": []
    },
    {
      "cell_type": "code",
      "source": [],
      "metadata": {
        "id": "g--kt970Ht0T"
      },
      "execution_count": null,
      "outputs": []
    },
    {
      "cell_type": "code",
      "source": [],
      "metadata": {
        "id": "ZJ_gyLEqHt2A"
      },
      "execution_count": null,
      "outputs": []
    }
  ]
}