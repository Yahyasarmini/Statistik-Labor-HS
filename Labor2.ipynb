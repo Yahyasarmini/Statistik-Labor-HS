{
  "nbformat": 4,
  "nbformat_minor": 0,
  "metadata": {
    "colab": {
      "provenance": []
    },
    "kernelspec": {
      "name": "python3",
      "display_name": "Python 3"
    },
    "language_info": {
      "name": "python"
    }
  },
  "cells": [
    {
      "cell_type": "code",
      "execution_count": null,
      "metadata": {
        "id": "4CFten_3E46X"
      },
      "outputs": [],
      "source": [
        "import pandas as pd\n",
        "import matplotlib.pyplot as plt\n",
        "import numpy as np\n",
        "import math\n",
        "from sklearn.preprocessing import StandardScaler\n",
        "from sklearn.preprocessing import PolynomialFeatures\n",
        "from sklearn.linear_model import LinearRegression\n",
        "from scipy.optimize import curve_fit\n",
        "data = pd.read_csv('sr_aufg_2_71.txt', sep='\\s+', decimal=',', header=None, names=['Jahr', 'Einwohner']) #data.head(5)\n",
        "pd.set_option('display.max_rows', None)\n",
        "data"
      ]
    },
    {
      "cell_type": "code",
      "source": [
        "%config InlineBack.figur_format = 'svg'\n",
        "plt.scatter ( data ['Jahr'], data ['Einwohner'], marker = 'x') plt.xlabel ('Jahr')\n",
        "plt.ylabel ('Millionen')\n",
        "plt.title ('Streudiagramm von Bevölkerungsentwicklung')"
      ],
      "metadata": {
        "id": "auJFuOZwFS0E"
      },
      "execution_count": null,
      "outputs": []
    },
    {
      "cell_type": "code",
      "source": [
        "Einwohner_model = LinearRegression ()"
      ],
      "metadata": {
        "id": "gF1SRLN9FS4n"
      },
      "execution_count": null,
      "outputs": []
    },
    {
      "cell_type": "code",
      "source": [
        "x = data ['Jahr']\n",
        "x = x.to_numpy ()\n",
        "x = x.reshape(-1,1)\n",
        "Einwohner_model.fit (x,data['Einwohner'])\n",
        "R_1 = Einwohner_model.score (x,data['Einwohner'])"
      ],
      "metadata": {
        "id": "uPCF-sj8FS81"
      },
      "execution_count": null,
      "outputs": []
    },
    {
      "cell_type": "code",
      "source": [
        "x_scaled = StandardScaler ().fit_transform (x)\n",
        "q_Jahr = PolynomialFeatures (degree = 2, include_bias = False).fit_transform (x_scaled) q_Einwohner_model = LinearRegression ()\n",
        "q_Einwohner_model.fit (q_Jahr, data ['Einwohner'])"
      ],
      "metadata": {
        "id": "Me4Sp9O_FaXw"
      },
      "execution_count": null,
      "outputs": []
    },
    {
      "cell_type": "code",
      "source": [
        "R_2 = q_Einwohner_model.score (q_Jahr, data ['Einwohner'])"
      ],
      "metadata": {
        "id": "_LbK2RTAFaaR"
      },
      "execution_count": null,
      "outputs": []
    },
    {
      "cell_type": "code",
      "source": [
        "drei_Jahr = PolynomialFeatures (degree = 3, include_bias = False).fit_transform (x_scaled) drei_Einwohner_model = LinearRegression ()\n",
        "drei_Einwohner_model.fit (drei_Jahr,data ['Einwohner'])"
      ],
      "metadata": {
        "id": "_bPoV4u7Facl"
      },
      "execution_count": null,
      "outputs": []
    },
    {
      "cell_type": "code",
      "source": [
        "R_3 = drei_Einwohner_model.score(drei_Jahr,data['Einwohner'])"
      ],
      "metadata": {
        "id": "Ed_LIgLTFaer"
      },
      "execution_count": null,
      "outputs": []
    },
    {
      "cell_type": "code",
      "source": [
        "sechs_Jahr = PolynomialFeatures (degree=6, include_bias=False).fit_transform (x_scaled) sechs_Einwohner_model = LinearRegression ()\n",
        "sechs_Einwohner_model.fit (sechs_Jahr,data['Einwohner']) sechs_Einwohner_model.intercept_\n",
        "sechs_Jahr_predict = sechs_Einwohner_model.predict(sechs_Jahr)"
      ],
      "metadata": {
        "id": "nUeWY7A-FiXM"
      },
      "execution_count": null,
      "outputs": []
    },
    {
      "cell_type": "code",
      "source": [
        "R_6 =sechs_Einwohner_model.score (sechs_Jahr,data ['Einwohner'])"
      ],
      "metadata": {
        "id": "l1TK67p9FiZ5"
      },
      "execution_count": null,
      "outputs": []
    },
    {
      "cell_type": "code",
      "source": [
        "def func2(x, a, b):\n",
        "return a * np.log(x) - b\n",
        "cof_log,log = curve_fit (func2,(data['Jahr']), data['Einwohner'], p0 = (0,55))"
      ],
      "metadata": {
        "id": "Rcqxdr6nFicD"
      },
      "execution_count": null,
      "outputs": []
    },
    {
      "cell_type": "code",
      "source": [
        "r = data['Einwohner'].to_numpy ().reshape (-1, 1)- func2 (x, *cof_log) ss_1 = np.sum(r ** 2)\n",
        "ss_2 = np.sum((data ['Einwohner'] - np.mean (data ['Einwohner'])) **2) r_squared_log = 1 - (ss_1/ss_2)"
      ],
      "metadata": {
        "id": "6d8NPIjcFieG"
      },
      "execution_count": null,
      "outputs": []
    },
    {
      "cell_type": "code",
      "source": [
        "pd.set_option ('max_colwidth', 500)\n",
        "t = pd.DataFrame (columns = ['Regressionstyp', 'Geschätzte Koeff.', 'Bestimmtheitsmaß']) t.at[0, 'Regressionstyp'] = 'Lineare Funk.'\n",
        "t.at[1, 'Regressionstyp'] = 'Pol 2 Grades'\n",
        "t.at[2, 'Regressionstyp'] = 'Pol 3 Grades'\n",
        "t.at[3, 'Regressionstyp'] = 'Pol 6 Grades'\n",
        "t.at[4, 'Regressionstyp'] = 'Log Funktion'\n",
        "t.at[0, 'Geschätzte Koeff.'] = 'y = %.4fx + %.4f' % (Einwohner_model.coef_, Einwohner_model.intercept_)\n",
        "t.at[1, 'Geschätzte Koeff.'] = 'y = %.2f x^2 + %.2f x + %.2f' % (q_Einwohner_model.coef_[0], q_Einwohner_model.coef_[1 t.at[2, 'Geschätzte Koeff.'] = 'y = %.2f x^3 + %.2f x^2 + %.2f x + %.2f' % (drei_Einwohner_model.coef_[0], drei_Einwoh t.at[3, 'Geschätzte Koeff.'] = 'y = %.1f x^6 + %.1f x^5 + %.1f x^4 + %.1f x^3 + %.1f x^2 + %.1f x + %.1f' % (\n",
        "sechs_Einwohner_model.coef_[0], sechs_Einwohner_model.coef_[1],\n",
        "sechs_Einwohner_model.coef_[2], sechs_Einwohner_model.coef_[3],\n",
        "sechs_Einwohner_model.coef_[4], sechs_Einwohner_model.coef_[5],sechs_Einwohner_model.intercept_)\n",
        "t.at[4, 'Geschätzte Koeff.'] = 'y = %.4f*Ln(x) - %.4f' % (cof_log[0], cof_log[1])\n",
        "t.at[0, 'Bestimmtheitsmaß'] = '%1.6f' % R_1\n",
        "t.at[1, 'Bestimmtheitsmaß'] = '%1.6f' % R_2\n",
        "t.at[2, 'Bestimmtheitsmaß'] = '%1.6f' % R_3\n",
        "t.at[3, 'Bestimmtheitsmaß'] = '%1.6f' % R_6\n",
        "t.at[4, 'Bestimmtheitsmaß'] = '%1.6f' % r_squared_log t"
      ],
      "metadata": {
        "id": "a467-PwyFigK"
      },
      "execution_count": null,
      "outputs": []
    },
    {
      "cell_type": "code",
      "source": [
        "sechs_Einwohner_model = sechs_Einwohner_model.predict (sechs_Jahr) plt.scatter (data ['Jahr'], data ['Einwohner'], marker = 'x') plt.xlabel ('Jahr')\n",
        "plt.ylabel ('Einwohner')\n",
        "plt.plot (x,sechs_Einwohner_model, color = 'green', linewidth = 3) plt.title ('Bevölkerungszahl')"
      ],
      "metadata": {
        "id": "smhTkfHgF1tq"
      },
      "execution_count": null,
      "outputs": []
    },
    {
      "cell_type": "code",
      "source": [
        "y = np.arange(1790, 2031).reshape(-1, 1)\n",
        "y_scal = (y - np.mean(x)) / np.std(x)\n",
        "q_Jahr_y = PolynomialFeatures(degree=2, include_bias=False).fit_transform(y_scal) q_Jahr_predict = q_Einwohner_model.predict(q_Jahr_y)"
      ],
      "metadata": {
        "id": "wG4Sz76KF4qK"
      },
      "execution_count": null,
      "outputs": []
    },
    {
      "cell_type": "code",
      "source": [
        "print ('Die Prognose für das Jahr 2030')\n",
        "print(q_Jahr_predict [240])"
      ],
      "metadata": {
        "id": "lsPrTtR1F7TW"
      },
      "execution_count": null,
      "outputs": []
    }
  ]
}