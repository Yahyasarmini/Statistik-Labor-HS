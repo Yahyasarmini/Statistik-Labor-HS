{
  "nbformat": 4,
  "nbformat_minor": 0,
  "metadata": {
    "colab": {
      "provenance": []
    },
    "kernelspec": {
      "name": "python3",
      "display_name": "Python 3"
    },
    "language_info": {
      "name": "python"
    }
  },
  "cells": [
    {
      "cell_type": "code",
      "execution_count": null,
      "metadata": {
        "id": "ChSbqIGb6ep9"
      },
      "outputs": [],
      "source": [
        "import pandas as pd\n",
        "data = pd.read_csv('sr_aufg_1_71.txt', sep=';',\n",
        "encoding='unicode_escape', na_values='.', header = None, names=['Pers.Nr.', 'Anrede', 'Vorname', 'Nachname', 'Geburtsd pd.set_option('display.max_rows',None)\n"
      ]
    },
    {
      "cell_type": "code",
      "source": [
        "data.drop([13, 23, 53, 55 , 79, 63,50,83,56,29], inplace=True)\n",
        "data.at[92, 'Geburtsdatum'] = '03.09.1943'\n",
        "data.at[108, 'Geburtsdatum'] = '11.07.1975'\n",
        "newTab = pd.DataFrame (columns = ['Personal Nr.', 'Anrede', 'Vorname', 'Nachname', 'Geburtsdatum', 'Datensatz?', 'Typ #Gelöscht\n",
        "newTab.loc [1] = pd.Series ({'Personal Nr.' :14, 'Anrede': 'Herr', 'Vorname' : 'Georg','Nachname' : 'Beck', 'Geburtsda newTab.loc [2] = pd.Series ({'Personal Nr.' :24, 'Anrede': 'Herr', 'Vorname' : 'Manfred','Nachname' : 'Eckert', 'Gebur newTab.loc [3] = pd.Series ({'Personal Nr.' :54, 'Anrede': 'Herr', 'Vorname' : 'Markus','Nachname' : 'Baumann', 'Gebur newTab.loc [4] = pd.Series ({'Personal Nr.' :56, 'Anrede' : 'Frau', 'Vorname' : 'Renate','Nachname' : 'Krüger', 'Gebur newTab.loc [5] = pd.Series ({'Personal Nr.' :80, 'Anrede' : 'Herr', 'Vorname' : 'Joachim','Nachname' : 'lange', 'Gebur newTab.loc [6] = pd.Series ({'Personal Nr.' :64, 'Anrede' : 'Frau', 'Vorname' : 'Sandra','Nachname' : 'hofmann', 'Gebu newTab.loc [7] = pd.Series ({'Personal Nr.' :51, 'Anrede' : 'Frau', 'Vorname' : 'Sussane','Nachname' : 'Lange', 'Gebur newTab.loc [8] = pd.Series ({'Personal Nr.' :84, 'Anrede' : 'Herr', 'Vorname' : 'Dieter','Nachname' : 'Glaser', 'Gebur newTab.loc [9] = pd.Series ({'Personal Nr.' :57, 'Anrede' : 'Frau', 'Vorname' : 'Anja','Nachname' : 'Rau', 'Geburtsdat newTab.loc [10] = pd.Series ({'Personal Nr.' :30, 'Anrede' : 'Frau', 'Vorname' : 'Birgit','Nachname' : 'Winkler', 'Geb #Korrigiert\n",
        "newTab.loc [11] = pd.Series ({'Personal Nr.' :93, 'Anrede': 'Herr', 'Vorname' : 'Georg','Nachname' : 'Ebert', 'Geburts newTab.loc [12] = pd.Series ({'Personal Nr.' :109, 'Anrede': 'Herr', 'Vorname' : 'Wolf','Nachname' : 'Jäger', 'Geburts #print(data)\n",
        "print(\"\\n\")\n",
        "print(newTab) #print(\"\\n\")"
      ],
      "metadata": {
        "id": "8bD_qRwn6g2V"
      },
      "execution_count": null,
      "outputs": []
    },
    {
      "cell_type": "code",
      "source": [
        "datetime_data = pd.to_datetime(data['Geburtsdatum'], format='%d.%m.%Y') jahr = datetime_data.dt.year\n",
        "data['Alter'] = 2005 - jahr"
      ],
      "metadata": {
        "id": "sDtYincq6jlS"
      },
      "execution_count": null,
      "outputs": []
    },
    {
      "cell_type": "code",
      "source": [
        "import matplotlib.pyplot as plt\n",
        "import numpy as np\n",
        "data_w = data.copy()\n",
        "data_w = data_w[~(data_w['Anrede'].isin(['Herr']))] data_m = data.copy()\n",
        "data_m = data_m[~(data_m['Anrede'].isin(['Frau']))]\n",
        "alterGrenzen = [0,20,30,40,50,100]\n",
        "altersKlassen = ['0 bis 20','21 bis 30','31 bis 40','41 bis 50','50 bis 200'] n_alt = pd.cut(data['Alter'], alterGrenzen, labels=altersKlassen) data['Altersklassen'] = n_alt\n",
        "n_alt_m = pd.cut(data_m['Alter'], alterGrenzen, labels=altersKlassen) data_m['Altersklassen'] = n_alt_m"
      ],
      "metadata": {
        "id": "mLKm9LmP6mRC"
      },
      "execution_count": null,
      "outputs": []
    },
    {
      "cell_type": "code",
      "source": [
        "# Erstelle Altersklassen für Frauen\n",
        "n_alt_w = pd.cut(data_w['Alter'], alterGrenzen, labels=altersKlassen) data_w['Altersklassen'] = n_alt_w\n",
        "# Berechne Häufigkeiten für alle Altersklassen\n",
        "data_hf = pd.value_counts(data['Altersklassen'], sort=False).rename_axis('Altersklassen').reset_index(name='Häufigkeit data_hf_w = pd.value_counts(data_w['Altersklassen'], sort=False).rename_axis('Altersklassen').reset_index(name='Häufig data_hf_m = pd.value_counts(data_m['Altersklassen'], sort=False).rename_axis('Altersklassen').reset_index(name='Häufig\n",
        "# Erstelle Diagramm\n",
        "x_pos = np.arange(len(altersKlassen))\n",
        "fig, ax = plt.subplots()\n",
        "bar1 = ax.bar(x_pos - 0.4/2, data_hf_w['Häufigkeit'][0:5], width=0.4, label='Frauen', color='red') bar2 = ax.bar(x_pos + 0.4/2, data_hf_m['Häufigkeit'][0:5], width=0.4, label='Männer', color='blue')\n",
        "# Passe Achsenbeschriftungen an\n",
        "ax.set_ylabel('Häufigkeit')\n",
        "ax.set_title('Altersverteilung Männer und Frauen zum Stichtag 31.12.2005') ax.legend()\n",
        "ax.set_xticks(x_pos)\n",
        "ax.set_xticklabels(altersKlassen)\n",
        "# Zeige Diagramm an\n",
        "plt.show()"
      ],
      "metadata": {
        "id": "9dPZbXlP6mZb"
      },
      "execution_count": null,
      "outputs": []
    },
    {
      "cell_type": "code",
      "source": [],
      "metadata": {
        "id": "mwOqMs0g7evl"
      },
      "execution_count": null,
      "outputs": []
    },
    {
      "cell_type": "code",
      "source": [],
      "metadata": {
        "id": "9oELTCLn7egH"
      },
      "execution_count": null,
      "outputs": []
    },
    {
      "cell_type": "code",
      "source": [
        "n_w = data_hf_w['Häufigkeit'].sum() n_m = data_hf_m['Häufigkeit'].sum()\n",
        "data_hf_w['rel. Häufigkeit in %'] = (data_hf_w['Häufigkeit'] / n_w * 100).round(2) data_hf_m['rel. Häufigkeit in %'] = (data_hf_m['Häufigkeit'] / n_m * 100).round(2)\n",
        "fig, (ax1, ax2) = plt.subplots(1, 2, figsize=(10, 7))\n",
        "ax1.pie(data_hf_w['rel. Häufigkeit in %'], labels=data_hf_w['Altersklassen'], shadow=True, autopct='%1.1f%%')\n",
        "ax2.pie(data_hf_m['rel. Häufigkeit in %'], labels=data_hf_m['Altersklassen'], shadow=True, autopct='%1.1f%%')\n",
        "ax1.set_title('Altersverteilung der Frauen zum 31.12.2005') ax2.set_title('Altersverteilung der Männer zum 31.12.2005')\n",
        "plt.show()"
      ],
      "metadata": {
        "id": "rYVZWHnM7Fyd"
      },
      "execution_count": null,
      "outputs": []
    },
    {
      "cell_type": "code",
      "source": [
        "# Sortiere Daten nach Alter\n",
        "data_sorted = data.sort_values(by=['Alter']) data_sorted_w = data_w.sort_values(by=['Alter']) data_sorted_m = data_m.sort_values(by=['Alter'])\n",
        "# Setze Index zurück\n",
        "data_sorted = data_sorted.reset_index().drop('index', axis=1) data_sorted_w = data_sorted_w.reset_index().drop('index', axis=1) data_sorted_m = data_sorted_m.reset_index().drop('index', axis=1)\n",
        "# Berechne Mittelwert, Median, Varianz, Standardabweichung und Spannweite\n",
        "xd = round(sum(data['Alter']) / len(data.index), 4)\n",
        "xd_w = round(sum(data_w['Alter']) / len(data_w.index), 4) xd_m = round(sum(data_m['Alter']) / len(data_m.index), 4)\n",
        "if len(data.index) % 2 == 0:\n",
        "\n",
        "xm = (data_sorted.at[(len(data.index)//2)-1, 'Alter'] + data_sorted.at[len(data.index)//2, 'Alter']) / 2 else:\n",
        "xm = data_sorted.at[(len(data.index)-1)//2, 'Alter']\n",
        "if len(data_w.index) % 2 == 0:\n",
        "xm_w = (data_sorted_w.at[(len(data_w.index)//2)-1, 'Alter'] + data_sorted_w.at[len(data_w.index)//2, 'Alter']) / 2\n",
        "else:\n",
        "xm_w = data_sorted_w.at[(len(data_w.index)-1)//2, 'Alter']\n",
        "if len(data_m.index) % 2 == 0:\n",
        "xm_m = (data_sorted_m.at[(len(data_m.index)//2)-1, 'Alter'] + data_sorted_m.at[len(data_m.index)//2, 'Alter']) / 2\n",
        "else:\n",
        "xm_m = data_sorted_m.at[(len(data_m.index)-1)//2, 'Alter']\n",
        "v = round(sum([(x - sum(data['Alter']) / len(data.index)) ** 2 for x in data['Alter']]) / (len(data.index) - 1), 4) v_w = round(sum([(x - sum(data_w['Alter']) / len(data_w.index)) ** 2 for x in data_w['Alter']]) / (len(data_w.index) - v_m = round(sum([(x - sum(data_m['Alter']) / len(data_m.index)) ** 2 for x in data_m['Alter']]) / (len(data_m.index) -\n",
        "s = round(v**0.5, 4) s_w = round(v_w**0.5, 4) s_m = round(v_m**0.5, 4)\n",
        "r = max(data['Alter']) - min(data['Alter'])\n",
        "r_w = max(data_w['Alter']) - min(data_w['Alter']) r_m = max(data_m['Alter']) - min(data_m['Alter'])\n",
        "n = len(data.index) n_w = len(data_w.index) n_m = len(data_m.index)\n",
        "# Erstelle DataFrame mit Merkzahlen\n",
        "d = {'gesamt': [xd, v, s, xm, r], 'Frauen': [xd_w, v_w, s_w, xm_w, r_w], 'Männer': [xd_m, v_m, s_m, xm_m, r_m]} merk = pd.DataFrame(data=d)\n",
        "merk.index = ['Mittelwert', 'Varianz', 'Std.-Abw.', 'Median', 'Spannweite']\n",
        "print('Merkzahlen:')\n",
        "merk"
      ],
      "metadata": {
        "id": "iAoXAL567NBJ"
      },
      "execution_count": null,
      "outputs": []
    }
  ]
}