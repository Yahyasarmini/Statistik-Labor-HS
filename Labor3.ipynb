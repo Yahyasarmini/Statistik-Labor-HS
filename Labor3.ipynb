{
  "nbformat": 4,
  "nbformat_minor": 0,
  "metadata": {
    "colab": {
      "provenance": []
    },
    "kernelspec": {
      "name": "python3",
      "display_name": "Python 3"
    },
    "language_info": {
      "name": "python"
    }
  },
  "cells": [
    {
      "cell_type": "code",
      "execution_count": null,
      "metadata": {
        "id": "aYTmttKSGQJa"
      },
      "outputs": [],
      "source": [
        "from math import factorial\n",
        "from math import sqrt\n",
        "from scipy.stats import hypergeom from scipy.stats import binom import numpy as np"
      ]
    },
    {
      "cell_type": "code",
      "source": [
        "from scipy.stats import hypergeom import math\n",
        "x10 = hypergeom(70, 20, 10)\n",
        "def Er(): e=0\n",
        "for i in range(11): if i == 0:\n",
        "e += x10.pmf(i) * 2 elif i >= 1 and i <= 4:\n",
        "e += x10.pmf(i) * -2 elif i == 5:\n",
        "e += x10.pmf(i) * 2 elif i == 6:\n",
        "e += x10.pmf(i) * 8 elif i == 7:\n",
        "e += x10.pmf(i) * 28 elif i == 8:\n",
        "e += x10.pmf(i) * 198 elif i == 9:\n",
        "e += x10.pmf(i) * 1998 elif i == 10:\n",
        "e += x10.pmf(i) * 199998 return e\n",
        "def Var():\n",
        "list = [2, -2, -2, -2, -2, 2, 8, 28, 198, 1998, 199998] a=0\n",
        "for i in range(11):\n",
        "a += ((list[i] ** 2) * (x10.pmf(i))) a -= (Er() ** 2)\n",
        "return a\n",
        "b = Er()\n",
        "c = Var()\n",
        "std = math.sqrt(c)\n",
        "print('Erwartungswert beträgt %1.4f' % b) print('Varianz beträgt %1.4f' % c) print('Standardabweichung beträgt %1.4f' % std)"
      ],
      "metadata": {
        "id": "zctvFzqOGbGc"
      },
      "execution_count": null,
      "outputs": []
    },
    {
      "cell_type": "code",
      "source": [
        "from scipy.stats import hypergeom import math\n",
        "# Hypergeometrische Verteilung mit Parametern (70, 20, 9)\n",
        "x9 = hypergeom(70, 20, 9)\n",
        "def Er(): e=0\n",
        "for i in range(10): if i == 0:\n",
        "  e += x9.pmf(i) * 2 elif i >= 1 and i <= 4: e += x9.pmf(i) * -2\n",
        "elif i == 5:\n",
        "e += x9.pmf(i) * 2\n",
        "elif i == 6:\n",
        "e += x9.pmf(i) * 8\n",
        "elif i == 7:\n",
        "e += x9.pmf(i) * 38\n",
        "elif i == 8:\n",
        "e += x9.pmf(i) * 1998\n",
        "elif i == 9:\n",
        "e += x9.pmf(i) * 99998\n",
        "return e b = Er()\n",
        "def Var():\n",
        "list = [2, -2, -2, -2, -2, 2, 8, 38, 1998, 99998] a=0\n",
        "for i in range(10):\n",
        "a += ((list[i] ** 2) * (x9.pmf(i))) a -= (b ** 2)\n",
        "return a c = Var()\n",
        "std = math.sqrt(c)\n",
        "# Ausgabe der Ergebnisse\n",
        "print('Erwartungswert beträgt %1.4f' % b) print('Varianz beträgt %1.4f' % c) print('Standardabweichung beträgt %1.4f' % std)"
      ],
      "metadata": {
        "id": "0IXNIdfIGbI7"
      },
      "execution_count": null,
      "outputs": []
    },
    {
      "cell_type": "code",
      "source": [
        "from scipy.stats import hypergeom import math\n",
        "# Hypergeometrische Verteilung mit Parametern (70, 20, 8)\n",
        "x8 = hypergeom(70, 20, 8)\n",
        "def Er(): e=0\n",
        "for i in range(9): if i == 0:\n",
        "e += x8.pmf(i) * 0 elif i >= 1 and i <= 3: e += x8.pmf(i) * -2\n",
        "elif i == 4:\n",
        "e += x8.pmf(i) * 0\n",
        "elif i == 5:\n",
        "e += x8.pmf(i) * 2\n",
        "elif i == 6:\n",
        "e += x8.pmf(i) * 28\n",
        "elif i == 7:\n",
        "e += x8.pmf(i) * 198\n",
        "elif i == 8:\n",
        "e += x8.pmf(i) * 19998\n",
        "return e b = Er()\n",
        "def Var():\n",
        "list = [0, -2, -2, -2, 0, 2, 28, 198, 19998] a=0\n",
        "for i in range(9):\n",
        "a += ((list[i] ** 2) * (x8.pmf(i))) a -= (b ** 2)\n",
        "return a c = Var()\n",
        "std = math.sqrt(c)\n",
        "# Ausgabe der Ergebnisse\n",
        "print('Erwartungswert beträgt %1.4f' % b) print('Varianz beträgt %1.4f' % c) print('Standardabweichung beträgt %1.4f' % std)"
      ],
      "metadata": {
        "id": "VyPYB-bPGbLK"
      },
      "execution_count": null,
      "outputs": []
    },
    {
      "cell_type": "code",
      "source": [
        "from scipy.stats import hypergeom import math\n",
        "# Hypergeometrische Verteilung mit Parametern (70, 20, 7)\n",
        "x7 = hypergeom(70, 20, 7)\n",
        "def Er(): e=0\n",
        "for i in range(8): if i == 0:\n",
        "e += x7.pmf(i) * -2 elif i >= 1 and i <= 3: e += x7.pmf(i) * -2\n",
        "elif i == 4:\n",
        "e += x7.pmf(i) * 0\n",
        "elif i == 5:\n",
        "e += x7.pmf(i) * 22\n",
        "elif i == 6:\n",
        "e += x7.pmf(i) * 198\n",
        "elif i == 7:\n",
        "e += x7.pmf(i) * 1998\n",
        "return e b = Er()\n",
        "def Var():\n",
        "list = [-2, -2, -2, -2, 0, 22, 198, 1998] a=0\n",
        "for i in range(8):\n",
        "a += ((list[i] ** 2) * (x7.pmf(i))) a -= (b ** 2)\n",
        "return a c = Var()\n",
        "std = math.sqrt(c)\n",
        "# Ausgabe der Ergebnisse\n",
        "print('Erwartungswert beträgt %1.4f' % b) print('Varianz beträgt %1.4f' % c) print('Standardabweichung beträgt %1.4f' % std)"
      ],
      "metadata": {
        "id": "9vVtZbZnGbNh"
      },
      "execution_count": null,
      "outputs": []
    },
    {
      "cell_type": "code",
      "source": [
        "from scipy.stats import hypergeom import math\n",
        "# Hypergeometrische Verteilung mit Parametern (70, 20, 6)\n",
        "x6 = hypergeom(70, 20, 6)\n",
        "def Er(): e=0\n",
        "for i in range(7): if i == 0:\n",
        "e += x6.pmf(i) * -2 elif i >= 1 and i <= 2: e += x6.pmf(i) * -2\n",
        "elif i == 3:\n",
        "e += x6.pmf(i) * 0\n",
        "elif i == 4:\n",
        "e += x6.pmf(i) * 2\n",
        "elif i == 5:\n",
        "e += x6.pmf(i) * 28\n",
        "elif i == 6:\n",
        "e += x6.pmf(i) * 998\n",
        "return e b = Er()\n",
        "def Var():\n",
        "list = [-2, -2, -2, 0, 2, 28, 998] a=0\n",
        "for i in range(7):\n",
        "a += ((list[i] ** 2) * (x6.pmf(i))) a -= (b ** 2)\n",
        "return a c = Var()\n",
        "std = math.sqrt(c)\n",
        "# Ausgabe der Ergebnisse\n",
        "print('Erwartungswert beträgt %1.4f' % b) print('Varianz beträgt %1.4f' % c) print('Standardabweichung beträgt %1.4f' % std)"
      ],
      "metadata": {
        "id": "oNF-E3pFGbQI"
      },
      "execution_count": null,
      "outputs": []
    },
    {
      "cell_type": "code",
      "source": [
        "from scipy.stats import hypergeom import math\n",
        "# Hypergeometrische Verteilung mit Parametern (70, 20, 5)\n",
        "x5 = hypergeom(70, 20, 5)\n",
        "def Er(): e=0\n",
        "for i in range(6): if i == 0:\n",
        "e += x5.pmf(i) * -2 elif i >= 1 and i <= 2: e += x5.pmf(i) * -2\n",
        "elif i == 3:\n",
        "e += x5.pmf(i) * 2\n",
        "elif i == 4:\n",
        "e += x5.pmf(i) * 12\n",
        "elif i == 5:\n",
        "e += x5.pmf(i) * 198\n",
        "return e b = Er()\n",
        "def Var():\n",
        "list = [-2, -2, -2, 2, 12, 198] a=0\n",
        "for i in range(6):\n",
        "a += ((list[i] ** 2) * (x5.pmf(i))) a -= (b ** 2)\n",
        "return a c = Var()\n",
        "std = math.sqrt(c)\n",
        "# Ausgabe der Ergebnisse\n",
        "print('Erwartungswert beträgt %1.4f' % b) print('Varianz beträgt %1.4f' % c) print('Standardabweichung beträgt %1.4f' % std)"
      ],
      "metadata": {
        "id": "fwcraIx-GbSe"
      },
      "execution_count": null,
      "outputs": []
    },
    {
      "cell_type": "code",
      "source": [
        "from scipy.stats import hypergeom import math\n",
        "# Hypergeometrische Verteilung mit Parametern (70, 20, 4)\n",
        "x4 = hypergeom(70, 20, 4)\n",
        "def Er(): e=0\n",
        "for i in range(5): if i == 0:\n",
        "e += x4.pmf(i) * -2 elif i == 1:\n",
        "e += x4.pmf(i) * -2 elif i == 2:\n",
        "e += x4.pmf(i) * 0 elif i == 3:\n",
        "e += x4.pmf(i) * 2 elif i == 4:\n",
        "e += x4.pmf(i) * 42 return e\n",
        "b = Er()\n",
        "def Var():\n",
        "list = [-2, -2, 0, 2, 42] a=0\n",
        "for i in range(5):\n",
        "a += ((list[i] ** 2) * (x4.pmf(i))) a -= (b ** 2)\n",
        "return a c = Var()\n",
        "std = math.sqrt(c)\n",
        "# Ausgabe der Ergebnisse\n",
        "print('Erwartungswert beträgt %1.4f' % b) print('Varianz beträgt %1.4f' % c) print('Standardabweichung beträgt %1.4f' % std)"
      ],
      "metadata": {
        "id": "my_Vr9o-GbUk"
      },
      "execution_count": null,
      "outputs": []
    },
    {
      "cell_type": "code",
      "source": [
        "from scipy.stats import hypergeom import math\n",
        "# Hypergeometrische Verteilung mit Parametern (70, 20, 3)\n",
        "x3 = hypergeom(70, 20, 3)\n",
        "def Er(): e=0\n",
        "for i in range(4): if i == 0:\n",
        "e += x3.pmf(i) * -2 elif i == 1:\n",
        "e += x3.pmf(i) * -2 elif i == 2:\n",
        "e += x3.pmf(i) * 0 elif i == 3:\n",
        "e += x3.pmf(i) * 30 return e\n",
        "b = Er()\n",
        "def Var():\n",
        "list = [-2, -2, 0, 30] a=0\n",
        "for i in range(4):\n",
        "a += ((list[i] ** 2) * (x3.pmf(i))) a -= (b ** 2)\n",
        "return a c = Var()\n",
        "std = math.sqrt(c)\n",
        "# Ausgabe der Ergebnisse\n",
        "print('Erwartungswert beträgt %1.4f' % b) print('Varianz beträgt %1.4f' % c) print('Standardabweichung beträgt %1.4f' % std)"
      ],
      "metadata": {
        "id": "kBPor8ZRGbXJ"
      },
      "execution_count": null,
      "outputs": []
    },
    {
      "cell_type": "code",
      "source": [
        "x2 = hypergeom(70, 20, 2)\n",
        "def Er(): e=0\n",
        "for i in range(3): if i == 0:\n",
        "e += x2.pmf(i) * -2 elif i == 1:\n",
        "e += x2.pmf(i) * -2 elif i == 2:\n",
        "e += x2.pmf(i) * 10 return e\n",
        "b = Er()\n",
        "def Var():\n",
        "lst = [-2, -2, 10] a=0\n",
        "for i in range(3):\n",
        "  a += ((lst[i] ** 2) * (x2.pmf(i))) a -= (b ** 2)\n",
        "return a c = Var()\n",
        "std = sqrt(c)\n",
        "print('Erwartungswert beträgt %1.4f' % b) print('Varianz beträgt %1.4f' % Var()) print('Standardabweichung beträgt %1.4f' % std)"
      ],
      "metadata": {
        "id": "sAkpquCMGbZg"
      },
      "execution_count": null,
      "outputs": []
    },
    {
      "cell_type": "code",
      "source": [],
      "metadata": {
        "id": "iCBc_NpcGbbV"
      },
      "execution_count": null,
      "outputs": []
    }
  ]
}